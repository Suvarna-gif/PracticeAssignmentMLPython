{
 "cells": [
  {
   "cell_type": "code",
   "execution_count": 45,
   "id": "3c10baf1",
   "metadata": {
    "ExecuteTime": {
     "end_time": "2022-03-14T11:39:42.123894Z",
     "start_time": "2022-03-14T11:39:42.100898Z"
    }
   },
   "outputs": [],
   "source": [
    "import numpy as np\n",
    "import pandas as pd\n"
   ]
  },
  {
   "cell_type": "markdown",
   "id": "0ba12aa0",
   "metadata": {},
   "source": [
    "# Loading Data As CSV:"
   ]
  },
  {
   "cell_type": "code",
   "execution_count": 32,
   "id": "a5e7b1ad",
   "metadata": {
    "ExecuteTime": {
     "end_time": "2022-03-14T13:08:34.304503Z",
     "start_time": "2022-03-14T13:08:33.281498Z"
    }
   },
   "outputs": [],
   "source": [
    "import pandas as pd\n",
    "from pprint import pprint\n",
    "  \n",
    "df4 = pd.read_csv('Incidents_service.csv')\n",
    "  \n"
   ]
  },
  {
   "cell_type": "code",
   "execution_count": 33,
   "id": "c40cea98",
   "metadata": {
    "ExecuteTime": {
     "end_time": "2022-03-14T13:08:38.303845Z",
     "start_time": "2022-03-14T13:08:38.289839Z"
    }
   },
   "outputs": [
    {
     "data": {
      "text/plain": [
       "Index(['ID', 'ID_status', 'active', 'count_reassign', 'count_opening',\n",
       "       'count_updated', 'ID_caller', 'opened_by', 'opened_time', 'Created_by',\n",
       "       'created_at', 'updated_by', 'updated_at', 'type_contact', 'location',\n",
       "       'category_ID', 'user_symptom', 'impact', 'Support_group',\n",
       "       'support_incharge', 'Doc_knowledge', 'confirmation_check', 'notify',\n",
       "       'problem_id', 'change request'],\n",
       "      dtype='object')"
      ]
     },
     "execution_count": 33,
     "metadata": {},
     "output_type": "execute_result"
    }
   ],
   "source": [
    "df4.columns"
   ]
  },
  {
   "cell_type": "code",
   "execution_count": 34,
   "id": "0b9029b0",
   "metadata": {
    "ExecuteTime": {
     "end_time": "2022-03-14T13:08:40.769219Z",
     "start_time": "2022-03-14T13:08:40.756218Z"
    }
   },
   "outputs": [
    {
     "data": {
      "text/plain": [
       "141712"
      ]
     },
     "execution_count": 34,
     "metadata": {},
     "output_type": "execute_result"
    }
   ],
   "source": [
    "len(df4)"
   ]
  },
  {
   "cell_type": "markdown",
   "id": "01ee051a",
   "metadata": {},
   "source": [
    "# Loading Data in Chunks:"
   ]
  },
  {
   "cell_type": "code",
   "execution_count": 35,
   "id": "31e5c66c",
   "metadata": {
    "ExecuteTime": {
     "end_time": "2022-03-14T13:08:46.062254Z",
     "start_time": "2022-03-14T13:08:46.041252Z"
    }
   },
   "outputs": [
    {
     "name": "stdout",
     "output_type": "stream",
     "text": [
      "<pandas.io.parsers.readers.TextFileReader object at 0x000002C2AA4A4040>\n"
     ]
    }
   ],
   "source": [
    "df5 = pd.read_csv('Incidents_service.csv', chunksize=10000)\n",
    "print(df5)"
   ]
  },
  {
   "cell_type": "code",
   "execution_count": 36,
   "id": "dffbd1b0",
   "metadata": {
    "ExecuteTime": {
     "end_time": "2022-03-14T13:08:48.460441Z",
     "start_time": "2022-03-14T13:08:48.427440Z"
    }
   },
   "outputs": [
    {
     "ename": "TypeError",
     "evalue": "object of type 'TextFileReader' has no len()",
     "output_type": "error",
     "traceback": [
      "\u001b[1;31m---------------------------------------------------------------------------\u001b[0m",
      "\u001b[1;31mTypeError\u001b[0m                                 Traceback (most recent call last)",
      "\u001b[1;32m~\\AppData\\Local\\Temp/ipykernel_13512/1435430039.py\u001b[0m in \u001b[0;36m<module>\u001b[1;34m\u001b[0m\n\u001b[1;32m----> 1\u001b[1;33m \u001b[0mlen\u001b[0m\u001b[1;33m(\u001b[0m\u001b[0mdf5\u001b[0m\u001b[1;33m)\u001b[0m\u001b[1;33m\u001b[0m\u001b[1;33m\u001b[0m\u001b[0m\n\u001b[0m",
      "\u001b[1;31mTypeError\u001b[0m: object of type 'TextFileReader' has no len()"
     ]
    }
   ],
   "source": [
    "len(df5)"
   ]
  },
  {
   "cell_type": "markdown",
   "id": "87f434ee",
   "metadata": {},
   "source": [
    "As we used chunksize,  dataframe is converted into 'TextFileReader' and it will not supprot the preprocessing functions like pandas dataframe"
   ]
  },
  {
   "cell_type": "code",
   "execution_count": 37,
   "id": "8b14541d",
   "metadata": {
    "ExecuteTime": {
     "end_time": "2022-03-14T13:08:52.270033Z",
     "start_time": "2022-03-14T13:08:50.850409Z"
    }
   },
   "outputs": [
    {
     "name": "stdout",
     "output_type": "stream",
     "text": [
      "(10000, 25)\n",
      "(10000, 25)\n",
      "(10000, 25)\n",
      "(10000, 25)\n",
      "(10000, 25)\n",
      "(10000, 25)\n",
      "(10000, 25)\n",
      "(10000, 25)\n",
      "(10000, 25)\n",
      "(10000, 25)\n",
      "(10000, 25)\n",
      "(10000, 25)\n",
      "(10000, 25)\n",
      "(10000, 25)\n",
      "(1712, 25)\n"
     ]
    }
   ],
   "source": [
    "for data1 in df5:\n",
    "    print(data1.shape)"
   ]
  },
  {
   "cell_type": "markdown",
   "id": "cd39733e",
   "metadata": {},
   "source": [
    "# Loading Data in Chunks and After that Concat it to make a dataframe:"
   ]
  },
  {
   "cell_type": "code",
   "execution_count": 38,
   "id": "05112e53",
   "metadata": {
    "ExecuteTime": {
     "end_time": "2022-03-14T13:08:57.491232Z",
     "start_time": "2022-03-14T13:08:57.474229Z"
    }
   },
   "outputs": [],
   "source": [
    "tp = pd.read_csv('Incidents_service.csv', iterator=True, chunksize=10000)"
   ]
  },
  {
   "cell_type": "code",
   "execution_count": 39,
   "id": "6344a06e",
   "metadata": {
    "ExecuteTime": {
     "end_time": "2022-03-14T13:09:01.473823Z",
     "start_time": "2022-03-14T13:09:00.040902Z"
    }
   },
   "outputs": [],
   "source": [
    "df6 = pd.concat(tp, ignore_index=True)"
   ]
  },
  {
   "cell_type": "code",
   "execution_count": 40,
   "id": "5791f25b",
   "metadata": {
    "ExecuteTime": {
     "end_time": "2022-03-14T13:09:11.565932Z",
     "start_time": "2022-03-14T13:09:11.556923Z"
    }
   },
   "outputs": [
    {
     "data": {
      "text/plain": [
       "141712"
      ]
     },
     "execution_count": 40,
     "metadata": {},
     "output_type": "execute_result"
    }
   ],
   "source": [
    "len(df6)"
   ]
  },
  {
   "cell_type": "code",
   "execution_count": 42,
   "id": "5c670cd3",
   "metadata": {
    "ExecuteTime": {
     "end_time": "2022-03-14T13:09:48.269365Z",
     "start_time": "2022-03-14T13:09:48.076359Z"
    }
   },
   "outputs": [
    {
     "name": "stdout",
     "output_type": "stream",
     "text": [
      "<class 'pandas.core.frame.DataFrame'>\n",
      "RangeIndex: 141712 entries, 0 to 141711\n",
      "Data columns (total 25 columns):\n",
      " #   Column              Non-Null Count   Dtype \n",
      "---  ------              --------------   ----- \n",
      " 0   ID                  141712 non-null  object\n",
      " 1   ID_status           141712 non-null  object\n",
      " 2   active              141712 non-null  bool  \n",
      " 3   count_reassign      141712 non-null  int64 \n",
      " 4   count_opening       141712 non-null  int64 \n",
      " 5   count_updated       141712 non-null  int64 \n",
      " 6   ID_caller           141712 non-null  object\n",
      " 7   opened_by           141712 non-null  object\n",
      " 8   opened_time         141712 non-null  object\n",
      " 9   Created_by          141712 non-null  object\n",
      " 10  created_at          141712 non-null  object\n",
      " 11  updated_by          141712 non-null  object\n",
      " 12  updated_at          141712 non-null  object\n",
      " 13  type_contact        141712 non-null  object\n",
      " 14  location            141712 non-null  object\n",
      " 15  category_ID         141712 non-null  object\n",
      " 16  user_symptom        141712 non-null  object\n",
      " 17  impact              141712 non-null  object\n",
      " 18  Support_group       141712 non-null  object\n",
      " 19  support_incharge    141712 non-null  object\n",
      " 20  Doc_knowledge       141712 non-null  bool  \n",
      " 21  confirmation_check  141712 non-null  bool  \n",
      " 22  notify              141712 non-null  object\n",
      " 23  problem_id          141712 non-null  object\n",
      " 24  change request      141712 non-null  object\n",
      "dtypes: bool(3), int64(3), object(19)\n",
      "memory usage: 24.2+ MB\n"
     ]
    }
   ],
   "source": [
    "df6.info()"
   ]
  },
  {
   "cell_type": "markdown",
   "id": "67ab75d3",
   "metadata": {},
   "source": [
    "# Multiprocessing using pandas:"
   ]
  },
  {
   "cell_type": "code",
   "execution_count": 43,
   "id": "7a547eaa",
   "metadata": {
    "ExecuteTime": {
     "end_time": "2022-03-14T13:32:57.702647Z",
     "start_time": "2022-03-14T13:32:57.659660Z"
    }
   },
   "outputs": [],
   "source": [
    "import warnings\n",
    "warnings.filterwarnings(\"ignore\")\n",
    "import pandas as pd\n",
    "import multiprocessing as mp"
   ]
  },
  {
   "cell_type": "code",
   "execution_count": 44,
   "id": "e3021506",
   "metadata": {
    "ExecuteTime": {
     "end_time": "2022-03-14T13:33:57.909767Z",
     "start_time": "2022-03-14T13:33:56.421771Z"
    }
   },
   "outputs": [
    {
     "name": "stdout",
     "output_type": "stream",
     "text": [
      "141712\n",
      "Wall time: 1.47 s\n"
     ]
    }
   ],
   "source": [
    "%%time\n",
    "df7 = pd.read_csv(\"Incidents_service.csv\", chunksize=10000)\n",
    "total_length = 0\n",
    "for chunk in df7:\n",
    "    total_length += len(chunk)\n",
    "print(total_length)"
   ]
  },
  {
   "cell_type": "code",
   "execution_count": 46,
   "id": "6692f562",
   "metadata": {
    "ExecuteTime": {
     "end_time": "2022-03-14T13:39:11.093842Z",
     "start_time": "2022-03-14T13:38:59.114397Z"
    }
   },
   "outputs": [
    {
     "ename": "TimeoutError",
     "evalue": "",
     "output_type": "error",
     "traceback": [
      "\u001b[1;31m---------------------------------------------------------------------------\u001b[0m",
      "\u001b[1;31mTimeoutError\u001b[0m                              Traceback (most recent call last)",
      "\u001b[1;32m<timed exec>\u001b[0m in \u001b[0;36m<module>\u001b[1;34m\u001b[0m\n",
      "\u001b[1;32m~\\anaconda3\\lib\\multiprocessing\\pool.py\u001b[0m in \u001b[0;36mget\u001b[1;34m(self, timeout)\u001b[0m\n\u001b[0;32m    765\u001b[0m         \u001b[0mself\u001b[0m\u001b[1;33m.\u001b[0m\u001b[0mwait\u001b[0m\u001b[1;33m(\u001b[0m\u001b[0mtimeout\u001b[0m\u001b[1;33m)\u001b[0m\u001b[1;33m\u001b[0m\u001b[1;33m\u001b[0m\u001b[0m\n\u001b[0;32m    766\u001b[0m         \u001b[1;32mif\u001b[0m \u001b[1;32mnot\u001b[0m \u001b[0mself\u001b[0m\u001b[1;33m.\u001b[0m\u001b[0mready\u001b[0m\u001b[1;33m(\u001b[0m\u001b[1;33m)\u001b[0m\u001b[1;33m:\u001b[0m\u001b[1;33m\u001b[0m\u001b[1;33m\u001b[0m\u001b[0m\n\u001b[1;32m--> 767\u001b[1;33m             \u001b[1;32mraise\u001b[0m \u001b[0mTimeoutError\u001b[0m\u001b[1;33m\u001b[0m\u001b[1;33m\u001b[0m\u001b[0m\n\u001b[0m\u001b[0;32m    768\u001b[0m         \u001b[1;32mif\u001b[0m \u001b[0mself\u001b[0m\u001b[1;33m.\u001b[0m\u001b[0m_success\u001b[0m\u001b[1;33m:\u001b[0m\u001b[1;33m\u001b[0m\u001b[1;33m\u001b[0m\u001b[0m\n\u001b[0;32m    769\u001b[0m             \u001b[1;32mreturn\u001b[0m \u001b[0mself\u001b[0m\u001b[1;33m.\u001b[0m\u001b[0m_value\u001b[0m\u001b[1;33m\u001b[0m\u001b[1;33m\u001b[0m\u001b[0m\n",
      "\u001b[1;31mTimeoutError\u001b[0m: "
     ]
    }
   ],
   "source": [
    "%%time\n",
    "LARGE_FILE = \"Incidents_service.csv\"\n",
    "CHUNKSIZE = 10000 # processing 10,000 rows at a time\n",
    "\n",
    "def process_frame(df):\n",
    "        # process data frame\n",
    "        return len(df)\n",
    "\n",
    "if __name__ == '__main__':\n",
    "        reader = pd.read_table(LARGE_FILE, chunksize=CHUNKSIZE)\n",
    "        pool = mp.Pool(4) # use 4 processes\n",
    "\n",
    "        funclist = []\n",
    "        for df in reader:\n",
    "                # process each data frame\n",
    "                f = pool.apply_async(process_frame,[df])\n",
    "                funclist.append(f)\n",
    "                \n",
    "        result = 0\n",
    "        for f in funclist:\n",
    "                result += f.get(timeout=10) # timeout in 10 seconds\n",
    "\n",
    "        print (f\"There are {result} rows of data\")"
   ]
  },
  {
   "cell_type": "markdown",
   "id": "34885274",
   "metadata": {},
   "source": [
    "# Dask Instead of Pandas:"
   ]
  },
  {
   "cell_type": "code",
   "execution_count": 47,
   "id": "f73a9c05",
   "metadata": {
    "ExecuteTime": {
     "end_time": "2022-03-14T13:40:17.892179Z",
     "start_time": "2022-03-14T13:40:15.014601Z"
    }
   },
   "outputs": [
    {
     "data": {
      "text/html": [
       "<div>\n",
       "<style scoped>\n",
       "    .dataframe tbody tr th:only-of-type {\n",
       "        vertical-align: middle;\n",
       "    }\n",
       "\n",
       "    .dataframe tbody tr th {\n",
       "        vertical-align: top;\n",
       "    }\n",
       "\n",
       "    .dataframe thead th {\n",
       "        text-align: right;\n",
       "    }\n",
       "</style>\n",
       "<table border=\"1\" class=\"dataframe\">\n",
       "  <thead>\n",
       "    <tr style=\"text-align: right;\">\n",
       "      <th></th>\n",
       "      <th>ID</th>\n",
       "      <th>ID_status</th>\n",
       "      <th>active</th>\n",
       "      <th>count_reassign</th>\n",
       "      <th>count_opening</th>\n",
       "      <th>count_updated</th>\n",
       "      <th>ID_caller</th>\n",
       "      <th>opened_by</th>\n",
       "      <th>opened_time</th>\n",
       "      <th>Created_by</th>\n",
       "      <th>...</th>\n",
       "      <th>category_ID</th>\n",
       "      <th>user_symptom</th>\n",
       "      <th>impact</th>\n",
       "      <th>Support_group</th>\n",
       "      <th>support_incharge</th>\n",
       "      <th>Doc_knowledge</th>\n",
       "      <th>confirmation_check</th>\n",
       "      <th>notify</th>\n",
       "      <th>problem_id</th>\n",
       "      <th>change request</th>\n",
       "    </tr>\n",
       "  </thead>\n",
       "  <tbody>\n",
       "    <tr>\n",
       "      <th>0</th>\n",
       "      <td>INC0000045</td>\n",
       "      <td>New</td>\n",
       "      <td>True</td>\n",
       "      <td>0.0</td>\n",
       "      <td>0.0</td>\n",
       "      <td>0.0</td>\n",
       "      <td>Caller 2403</td>\n",
       "      <td>Opened by  8</td>\n",
       "      <td>29-02-2016 01:16</td>\n",
       "      <td>Created by 6</td>\n",
       "      <td>...</td>\n",
       "      <td>Category 55</td>\n",
       "      <td>Symptom 72</td>\n",
       "      <td>2 - Medium</td>\n",
       "      <td>Group 56</td>\n",
       "      <td>Resolver 17</td>\n",
       "      <td>True</td>\n",
       "      <td>False</td>\n",
       "      <td>Do Not Notify</td>\n",
       "      <td>?</td>\n",
       "      <td>?</td>\n",
       "    </tr>\n",
       "    <tr>\n",
       "      <th>1</th>\n",
       "      <td>INC0000045</td>\n",
       "      <td>Resolved</td>\n",
       "      <td>True</td>\n",
       "      <td>0.0</td>\n",
       "      <td>0.0</td>\n",
       "      <td>3.0</td>\n",
       "      <td>Caller 2403</td>\n",
       "      <td>Opened by  8</td>\n",
       "      <td>29-02-2016 01:16</td>\n",
       "      <td>Created by 6</td>\n",
       "      <td>...</td>\n",
       "      <td>Category 55</td>\n",
       "      <td>Symptom 72</td>\n",
       "      <td>2 - Medium</td>\n",
       "      <td>Group 56</td>\n",
       "      <td>Resolver 17</td>\n",
       "      <td>True</td>\n",
       "      <td>False</td>\n",
       "      <td>Do Not Notify</td>\n",
       "      <td>?</td>\n",
       "      <td>?</td>\n",
       "    </tr>\n",
       "    <tr>\n",
       "      <th>2</th>\n",
       "      <td>INC0000045</td>\n",
       "      <td>Closed</td>\n",
       "      <td>False</td>\n",
       "      <td>0.0</td>\n",
       "      <td>0.0</td>\n",
       "      <td>4.0</td>\n",
       "      <td>Caller 2403</td>\n",
       "      <td>Opened by  8</td>\n",
       "      <td>29-02-2016 01:16</td>\n",
       "      <td>Created by 6</td>\n",
       "      <td>...</td>\n",
       "      <td>Category 55</td>\n",
       "      <td>Symptom 72</td>\n",
       "      <td>2 - Medium</td>\n",
       "      <td>Group 56</td>\n",
       "      <td>Resolver 17</td>\n",
       "      <td>True</td>\n",
       "      <td>False</td>\n",
       "      <td>Do Not Notify</td>\n",
       "      <td>?</td>\n",
       "      <td>?</td>\n",
       "    </tr>\n",
       "    <tr>\n",
       "      <th>3</th>\n",
       "      <td>INC0000047</td>\n",
       "      <td>Active</td>\n",
       "      <td>True</td>\n",
       "      <td>1.0</td>\n",
       "      <td>0.0</td>\n",
       "      <td>1.0</td>\n",
       "      <td>Caller 2403</td>\n",
       "      <td>Opened by  397</td>\n",
       "      <td>29-02-2016 04:40</td>\n",
       "      <td>Created by 171</td>\n",
       "      <td>...</td>\n",
       "      <td>Category 40</td>\n",
       "      <td>Symptom 471</td>\n",
       "      <td>2 - Medium</td>\n",
       "      <td>Group 24</td>\n",
       "      <td>Resolver 31</td>\n",
       "      <td>True</td>\n",
       "      <td>False</td>\n",
       "      <td>Do Not Notify</td>\n",
       "      <td>?</td>\n",
       "      <td>?</td>\n",
       "    </tr>\n",
       "    <tr>\n",
       "      <th>4</th>\n",
       "      <td>INC0000047</td>\n",
       "      <td>Active</td>\n",
       "      <td>True</td>\n",
       "      <td>1.0</td>\n",
       "      <td>0.0</td>\n",
       "      <td>2.0</td>\n",
       "      <td>Caller 2403</td>\n",
       "      <td>Opened by  397</td>\n",
       "      <td>29-02-2016 04:40</td>\n",
       "      <td>Created by 171</td>\n",
       "      <td>...</td>\n",
       "      <td>Category 40</td>\n",
       "      <td>Symptom 471</td>\n",
       "      <td>2 - Medium</td>\n",
       "      <td>Group 24</td>\n",
       "      <td>Resolver 31</td>\n",
       "      <td>True</td>\n",
       "      <td>False</td>\n",
       "      <td>Do Not Notify</td>\n",
       "      <td>?</td>\n",
       "      <td>?</td>\n",
       "    </tr>\n",
       "    <tr>\n",
       "      <th>...</th>\n",
       "      <td>...</td>\n",
       "      <td>...</td>\n",
       "      <td>...</td>\n",
       "      <td>...</td>\n",
       "      <td>...</td>\n",
       "      <td>...</td>\n",
       "      <td>...</td>\n",
       "      <td>...</td>\n",
       "      <td>...</td>\n",
       "      <td>...</td>\n",
       "      <td>...</td>\n",
       "      <td>...</td>\n",
       "      <td>...</td>\n",
       "      <td>...</td>\n",
       "      <td>...</td>\n",
       "      <td>...</td>\n",
       "      <td>...</td>\n",
       "      <td>...</td>\n",
       "      <td>...</td>\n",
       "      <td>...</td>\n",
       "      <td>...</td>\n",
       "    </tr>\n",
       "    <tr>\n",
       "      <th>141707</th>\n",
       "      <td>INC0119457</td>\n",
       "      <td>Closed</td>\n",
       "      <td>False</td>\n",
       "      <td>0.0</td>\n",
       "      <td>0.0</td>\n",
       "      <td>1.0</td>\n",
       "      <td>Caller 2403</td>\n",
       "      <td>Opened by  508</td>\n",
       "      <td>13-02-2017 11:31</td>\n",
       "      <td>Created by 10</td>\n",
       "      <td>...</td>\n",
       "      <td>Category 50</td>\n",
       "      <td>Symptom 533</td>\n",
       "      <td>3 - Low</td>\n",
       "      <td>Group 70</td>\n",
       "      <td>Resolver 17</td>\n",
       "      <td>False</td>\n",
       "      <td>False</td>\n",
       "      <td>Do Not Notify</td>\n",
       "      <td>?</td>\n",
       "      <td>?</td>\n",
       "    </tr>\n",
       "    <tr>\n",
       "      <th>141708</th>\n",
       "      <td>INC0119983</td>\n",
       "      <td>New</td>\n",
       "      <td>True</td>\n",
       "      <td>0.0</td>\n",
       "      <td>0.0</td>\n",
       "      <td>0.0</td>\n",
       "      <td>Caller 831</td>\n",
       "      <td>Opened by  508</td>\n",
       "      <td>14-02-2017 11:11</td>\n",
       "      <td>Created by 10</td>\n",
       "      <td>...</td>\n",
       "      <td>Category 50</td>\n",
       "      <td>Symptom 533</td>\n",
       "      <td>3 - Low</td>\n",
       "      <td>Group 70</td>\n",
       "      <td>Resolver 17</td>\n",
       "      <td>False</td>\n",
       "      <td>False</td>\n",
       "      <td>Do Not Notify</td>\n",
       "      <td>?</td>\n",
       "      <td>?</td>\n",
       "    </tr>\n",
       "    <tr>\n",
       "      <th>141709</th>\n",
       "      <td>INC0120303</td>\n",
       "      <td>New</td>\n",
       "      <td>True</td>\n",
       "      <td>0.0</td>\n",
       "      <td>0.0</td>\n",
       "      <td>0.0</td>\n",
       "      <td>Caller 1866</td>\n",
       "      <td>Opened by  508</td>\n",
       "      <td>15-02-2017 01:52</td>\n",
       "      <td>Created by 10</td>\n",
       "      <td>...</td>\n",
       "      <td>Category 50</td>\n",
       "      <td>Symptom 533</td>\n",
       "      <td>3 - Low</td>\n",
       "      <td>Group 70</td>\n",
       "      <td>Resolver 17</td>\n",
       "      <td>False</td>\n",
       "      <td>False</td>\n",
       "      <td>Do Not Notify</td>\n",
       "      <td>?</td>\n",
       "      <td>?</td>\n",
       "    </tr>\n",
       "    <tr>\n",
       "      <th>141710</th>\n",
       "      <td>INC0120319</td>\n",
       "      <td>New</td>\n",
       "      <td>True</td>\n",
       "      <td>0.0</td>\n",
       "      <td>0.0</td>\n",
       "      <td>0.0</td>\n",
       "      <td>Caller 1899</td>\n",
       "      <td>Opened by  508</td>\n",
       "      <td>15-02-2017 07:09</td>\n",
       "      <td>Created by 10</td>\n",
       "      <td>...</td>\n",
       "      <td>Category 50</td>\n",
       "      <td>Symptom 533</td>\n",
       "      <td>3 - Low</td>\n",
       "      <td>Group 70</td>\n",
       "      <td>Resolver 17</td>\n",
       "      <td>False</td>\n",
       "      <td>False</td>\n",
       "      <td>Do Not Notify</td>\n",
       "      <td>?</td>\n",
       "      <td>?</td>\n",
       "    </tr>\n",
       "    <tr>\n",
       "      <th>141711</th>\n",
       "      <td>INC0121064</td>\n",
       "      <td>Closed</td>\n",
       "      <td>False</td>\n",
       "      <td>1.0</td>\n",
       "      <td>0.0</td>\n",
       "      <td>3.0</td>\n",
       "      <td>Caller 116</td>\n",
       "      <td>Opened by  12</td>\n",
       "      <td>16-02-2017 14:17</td>\n",
       "      <td>Created by 10</td>\n",
       "      <td>...</td>\n",
       "      <td>Category 42</td>\n",
       "      <td>Symptom 494</td>\n",
       "      <td>2 - Medium</td>\n",
       "      <td>Group 31</td>\n",
       "      <td>Resolver 10</td>\n",
       "      <td>False</td>\n",
       "      <td>True</td>\n",
       "      <td>Do Not Notify</td>\n",
       "      <td>?</td>\n",
       "      <td>?</td>\n",
       "    </tr>\n",
       "  </tbody>\n",
       "</table>\n",
       "<p>141712 rows × 25 columns</p>\n",
       "</div>"
      ],
      "text/plain": [
       "                ID ID_status  active  count_reassign  count_opening  \\\n",
       "0       INC0000045       New    True             0.0            0.0   \n",
       "1       INC0000045  Resolved    True             0.0            0.0   \n",
       "2       INC0000045    Closed   False             0.0            0.0   \n",
       "3       INC0000047    Active    True             1.0            0.0   \n",
       "4       INC0000047    Active    True             1.0            0.0   \n",
       "...            ...       ...     ...             ...            ...   \n",
       "141707  INC0119457    Closed   False             0.0            0.0   \n",
       "141708  INC0119983       New    True             0.0            0.0   \n",
       "141709  INC0120303       New    True             0.0            0.0   \n",
       "141710  INC0120319       New    True             0.0            0.0   \n",
       "141711  INC0121064    Closed   False             1.0            0.0   \n",
       "\n",
       "        count_updated    ID_caller       opened_by       opened_time  \\\n",
       "0                 0.0  Caller 2403    Opened by  8  29-02-2016 01:16   \n",
       "1                 3.0  Caller 2403    Opened by  8  29-02-2016 01:16   \n",
       "2                 4.0  Caller 2403    Opened by  8  29-02-2016 01:16   \n",
       "3                 1.0  Caller 2403  Opened by  397  29-02-2016 04:40   \n",
       "4                 2.0  Caller 2403  Opened by  397  29-02-2016 04:40   \n",
       "...               ...          ...             ...               ...   \n",
       "141707            1.0  Caller 2403  Opened by  508  13-02-2017 11:31   \n",
       "141708            0.0   Caller 831  Opened by  508  14-02-2017 11:11   \n",
       "141709            0.0  Caller 1866  Opened by  508  15-02-2017 01:52   \n",
       "141710            0.0  Caller 1899  Opened by  508  15-02-2017 07:09   \n",
       "141711            3.0   Caller 116   Opened by  12  16-02-2017 14:17   \n",
       "\n",
       "            Created_by  ...  category_ID user_symptom      impact  \\\n",
       "0         Created by 6  ...  Category 55   Symptom 72  2 - Medium   \n",
       "1         Created by 6  ...  Category 55   Symptom 72  2 - Medium   \n",
       "2         Created by 6  ...  Category 55   Symptom 72  2 - Medium   \n",
       "3       Created by 171  ...  Category 40  Symptom 471  2 - Medium   \n",
       "4       Created by 171  ...  Category 40  Symptom 471  2 - Medium   \n",
       "...                ...  ...          ...          ...         ...   \n",
       "141707   Created by 10  ...  Category 50  Symptom 533     3 - Low   \n",
       "141708   Created by 10  ...  Category 50  Symptom 533     3 - Low   \n",
       "141709   Created by 10  ...  Category 50  Symptom 533     3 - Low   \n",
       "141710   Created by 10  ...  Category 50  Symptom 533     3 - Low   \n",
       "141711   Created by 10  ...  Category 42  Symptom 494  2 - Medium   \n",
       "\n",
       "       Support_group support_incharge Doc_knowledge confirmation_check  \\\n",
       "0           Group 56      Resolver 17          True              False   \n",
       "1           Group 56      Resolver 17          True              False   \n",
       "2           Group 56      Resolver 17          True              False   \n",
       "3           Group 24      Resolver 31          True              False   \n",
       "4           Group 24      Resolver 31          True              False   \n",
       "...              ...              ...           ...                ...   \n",
       "141707      Group 70      Resolver 17         False              False   \n",
       "141708      Group 70      Resolver 17         False              False   \n",
       "141709      Group 70      Resolver 17         False              False   \n",
       "141710      Group 70      Resolver 17         False              False   \n",
       "141711      Group 31      Resolver 10         False               True   \n",
       "\n",
       "               notify problem_id change request  \n",
       "0       Do Not Notify          ?              ?  \n",
       "1       Do Not Notify          ?              ?  \n",
       "2       Do Not Notify          ?              ?  \n",
       "3       Do Not Notify          ?              ?  \n",
       "4       Do Not Notify          ?              ?  \n",
       "...               ...        ...            ...  \n",
       "141707  Do Not Notify          ?              ?  \n",
       "141708  Do Not Notify          ?              ?  \n",
       "141709  Do Not Notify          ?              ?  \n",
       "141710  Do Not Notify          ?              ?  \n",
       "141711  Do Not Notify          ?              ?  \n",
       "\n",
       "[141712 rows x 25 columns]"
      ]
     },
     "execution_count": 47,
     "metadata": {},
     "output_type": "execute_result"
    }
   ],
   "source": [
    "import dask.dataframe as dd\n",
    "data = dd.read_csv(\"Incidents_service.csv\",dtype={'MachineHoursCurrentMeter': 'float64'},assume_missing=True)\n",
    "data.compute()"
   ]
  },
  {
   "cell_type": "code",
   "execution_count": null,
   "id": "0b5befd0",
   "metadata": {},
   "outputs": [],
   "source": []
  }
 ],
 "metadata": {
  "kernelspec": {
   "display_name": "Python 3 (ipykernel)",
   "language": "python",
   "name": "python3"
  },
  "language_info": {
   "codemirror_mode": {
    "name": "ipython",
    "version": 3
   },
   "file_extension": ".py",
   "mimetype": "text/x-python",
   "name": "python",
   "nbconvert_exporter": "python",
   "pygments_lexer": "ipython3",
   "version": "3.9.7"
  },
  "toc": {
   "base_numbering": 1,
   "nav_menu": {},
   "number_sections": true,
   "sideBar": true,
   "skip_h1_title": false,
   "title_cell": "Table of Contents",
   "title_sidebar": "Contents",
   "toc_cell": false,
   "toc_position": {},
   "toc_section_display": true,
   "toc_window_display": false
  }
 },
 "nbformat": 4,
 "nbformat_minor": 5
}
